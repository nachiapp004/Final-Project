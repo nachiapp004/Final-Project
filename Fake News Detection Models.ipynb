{
 "cells": [
  {
   "cell_type": "markdown",
   "id": "36bf62b8",
   "metadata": {},
   "source": [
    "# Fake News Detection Project"
   ]
  },
  {
   "cell_type": "markdown",
   "id": "45a21354",
   "metadata": {},
   "source": [
    "## Importing Libraries"
   ]
  },
  {
   "cell_type": "code",
   "execution_count": 3,
   "id": "447bb1a3",
   "metadata": {},
   "outputs": [
    {
     "name": "stderr",
     "output_type": "stream",
     "text": [
      "C:\\Users\\65918\\anaconda3\\lib\\site-packages\\scipy\\__init__.py:155: UserWarning: A NumPy version >=1.18.5 and <1.25.0 is required for this version of SciPy (detected version 1.26.3\n",
      "  warnings.warn(f\"A NumPy version >={np_minversion} and <{np_maxversion}\"\n"
     ]
    },
    {
     "name": "stdout",
     "output_type": "stream",
     "text": [
      "WARNING:tensorflow:From C:\\Users\\65918\\anaconda3\\lib\\site-packages\\keras\\src\\losses.py:2976: The name tf.losses.sparse_softmax_cross_entropy is deprecated. Please use tf.compat.v1.losses.sparse_softmax_cross_entropy instead.\n",
      "\n"
     ]
    }
   ],
   "source": [
    "# Importing libraries\n",
    "import nltk\n",
    "import re\n",
    "import sklearn\n",
    "import csv\n",
    "import string\n",
    "import pandas as pd\n",
    "import matplotlib.pyplot as plt\n",
    "import seaborn as sns\n",
    "import numpy as np\n",
    "import pickle\n",
    "\n",
    "# Importing word processing libraries\n",
    "from nltk.corpus import stopwords\n",
    "from sklearn.model_selection import train_test_split\n",
    "\n",
    "# Importing vectorizers\n",
    "from sklearn.feature_extraction.text import TfidfVectorizer\n",
    "from sklearn.feature_extraction.text import CountVectorizer\n",
    "\n",
    "# Importing libraries for the Naiive Bayes model\n",
    "from sklearn.naive_bayes import MultinomialNB\n",
    "from sklearn.model_selection import GridSearchCV\n",
    "\n",
    "# Importing libraries for the LSTM model\n",
    "from tensorflow.keras.layers import Embedding\n",
    "from tensorflow.keras.preprocessing.sequence import pad_sequences\n",
    "from tensorflow.keras.models import Sequential\n",
    "from tensorflow.keras.preprocessing.text import one_hot\n",
    "from tensorflow.keras.layers import LSTM\n",
    "from tensorflow.keras.layers import Dense\n",
    "from sklearn.preprocessing import LabelEncoder\n",
    "from tensorflow.keras.preprocessing.text import Tokenizer\n",
    "from scipy.sparse import csr_matrix\n",
    "\n",
    "# Importing libraries for evaluation\n",
    "from sklearn import metrics\n",
    "from sklearn.metrics import recall_score, precision_score, f1_score, roc_auc_score, confusion_matrix"
   ]
  },
  {
   "cell_type": "markdown",
   "id": "db514d10",
   "metadata": {},
   "source": [
    "## Importing the Datasets"
   ]
  },
  {
   "cell_type": "code",
   "execution_count": 4,
   "id": "72660fee",
   "metadata": {},
   "outputs": [],
   "source": [
    "#reading the csv file and storing it to the raw_data dataframe\n",
    "# https://www.kaggle.com/datasets/rajatkumar30/fake-news/\n",
    "raw_data = pd.read_csv(\"news/news.csv\")\n",
    "\n",
    "#reading the csv file and storing it to the true_data, fake_data dataframes\n",
    "#https://www.kaggle.com/datasets/emineyetm/fake-news-detection-datasets\n",
    "true_data = pd.read_csv(\"true/true.csv\")\n",
    "fake_data = pd.read_csv(\"fake/fake.csv\")"
   ]
  },
  {
   "cell_type": "markdown",
   "id": "cebbaaeb",
   "metadata": {},
   "source": [
    "### About Dataset 1: News.csv"
   ]
  },
  {
   "cell_type": "code",
   "execution_count": 5,
   "id": "3ddc7099",
   "metadata": {},
   "outputs": [
    {
     "data": {
      "text/plain": [
       "Index(['Unnamed: 0', 'title', 'text', 'label'], dtype='object')"
      ]
     },
     "execution_count": 5,
     "metadata": {},
     "output_type": "execute_result"
    }
   ],
   "source": [
    "# finding out the column names of the dataset\n",
    "raw_data.columns"
   ]
  },
  {
   "cell_type": "markdown",
   "id": "88f594a0",
   "metadata": {},
   "source": [
    "#### Size of the Dataset"
   ]
  },
  {
   "cell_type": "code",
   "execution_count": 6,
   "id": "92686c13",
   "metadata": {},
   "outputs": [
    {
     "data": {
      "text/plain": [
       "(6335, 4)"
      ]
     },
     "execution_count": 6,
     "metadata": {},
     "output_type": "execute_result"
    }
   ],
   "source": [
    "# finding out the size of the extracted datset\n",
    "raw_data.shape"
   ]
  },
  {
   "cell_type": "markdown",
   "id": "7ad8baf7",
   "metadata": {},
   "source": [
    "#### Viewing a few entries of the Dataset"
   ]
  },
  {
   "cell_type": "code",
   "execution_count": 7,
   "id": "69cef3a1",
   "metadata": {},
   "outputs": [
    {
     "data": {
      "text/html": [
       "<div>\n",
       "<style scoped>\n",
       "    .dataframe tbody tr th:only-of-type {\n",
       "        vertical-align: middle;\n",
       "    }\n",
       "\n",
       "    .dataframe tbody tr th {\n",
       "        vertical-align: top;\n",
       "    }\n",
       "\n",
       "    .dataframe thead th {\n",
       "        text-align: right;\n",
       "    }\n",
       "</style>\n",
       "<table border=\"1\" class=\"dataframe\">\n",
       "  <thead>\n",
       "    <tr style=\"text-align: right;\">\n",
       "      <th></th>\n",
       "      <th>Unnamed: 0</th>\n",
       "      <th>title</th>\n",
       "      <th>text</th>\n",
       "      <th>label</th>\n",
       "    </tr>\n",
       "  </thead>\n",
       "  <tbody>\n",
       "    <tr>\n",
       "      <th>0</th>\n",
       "      <td>8476</td>\n",
       "      <td>You Can Smell Hillary’s Fear</td>\n",
       "      <td>Daniel Greenfield, a Shillman Journalism Fello...</td>\n",
       "      <td>FAKE</td>\n",
       "    </tr>\n",
       "    <tr>\n",
       "      <th>1</th>\n",
       "      <td>10294</td>\n",
       "      <td>Watch The Exact Moment Paul Ryan Committed Pol...</td>\n",
       "      <td>Google Pinterest Digg Linkedin Reddit Stumbleu...</td>\n",
       "      <td>FAKE</td>\n",
       "    </tr>\n",
       "    <tr>\n",
       "      <th>2</th>\n",
       "      <td>3608</td>\n",
       "      <td>Kerry to go to Paris in gesture of sympathy</td>\n",
       "      <td>U.S. Secretary of State John F. Kerry said Mon...</td>\n",
       "      <td>REAL</td>\n",
       "    </tr>\n",
       "    <tr>\n",
       "      <th>3</th>\n",
       "      <td>10142</td>\n",
       "      <td>Bernie supporters on Twitter erupt in anger ag...</td>\n",
       "      <td>— Kaydee King (@KaydeeKing) November 9, 2016 T...</td>\n",
       "      <td>FAKE</td>\n",
       "    </tr>\n",
       "    <tr>\n",
       "      <th>4</th>\n",
       "      <td>875</td>\n",
       "      <td>The Battle of New York: Why This Primary Matters</td>\n",
       "      <td>It's primary day in New York and front-runners...</td>\n",
       "      <td>REAL</td>\n",
       "    </tr>\n",
       "  </tbody>\n",
       "</table>\n",
       "</div>"
      ],
      "text/plain": [
       "   Unnamed: 0                                              title  \\\n",
       "0        8476                       You Can Smell Hillary’s Fear   \n",
       "1       10294  Watch The Exact Moment Paul Ryan Committed Pol...   \n",
       "2        3608        Kerry to go to Paris in gesture of sympathy   \n",
       "3       10142  Bernie supporters on Twitter erupt in anger ag...   \n",
       "4         875   The Battle of New York: Why This Primary Matters   \n",
       "\n",
       "                                                text label  \n",
       "0  Daniel Greenfield, a Shillman Journalism Fello...  FAKE  \n",
       "1  Google Pinterest Digg Linkedin Reddit Stumbleu...  FAKE  \n",
       "2  U.S. Secretary of State John F. Kerry said Mon...  REAL  \n",
       "3  — Kaydee King (@KaydeeKing) November 9, 2016 T...  FAKE  \n",
       "4  It's primary day in New York and front-runners...  REAL  "
      ]
     },
     "execution_count": 7,
     "metadata": {},
     "output_type": "execute_result"
    }
   ],
   "source": [
    "# displaying a few rows of the dataset\n",
    "raw_data.head()"
   ]
  },
  {
   "cell_type": "markdown",
   "id": "2b789382",
   "metadata": {},
   "source": [
    "#### Viewing the breakdown of the Dataset labels"
   ]
  },
  {
   "cell_type": "code",
   "execution_count": 8,
   "id": "f8f8e164",
   "metadata": {},
   "outputs": [
    {
     "data": {
      "image/png": "[encoded data removed]",
      "text/plain": [
       "<Figure size 640x480 with 1 Axes>"
      ]
     },
     "metadata": {},
     "output_type": "display_data"
    }
   ],
   "source": [
    "raw_breakdown = raw_data['label'].value_counts()\n",
    "# Plot the value counts as a bar chart\n",
    "raw_breakdown.plot(kind='bar')\n",
    "plt.show()"
   ]
  },
  {
   "cell_type": "markdown",
   "id": "f10ebdc7",
   "metadata": {},
   "source": [
    "### About Dataset 2 & 3: True.csv, Fake.csv"
   ]
  },
  {
   "cell_type": "code",
   "execution_count": 9,
   "id": "9d053843",
   "metadata": {},
   "outputs": [
    {
     "data": {
      "text/plain": [
       "Index(['title', 'text', 'subject', 'date'], dtype='object')"
      ]
     },
     "execution_count": 9,
     "metadata": {},
     "output_type": "execute_result"
    }
   ],
   "source": [
    "# finding out the column names of the dataset\n",
    "true_data.columns"
   ]
  },
  {
   "cell_type": "code",
   "execution_count": 10,
   "id": "50f69b41",
   "metadata": {},
   "outputs": [
    {
     "data": {
      "text/plain": [
       "Index(['title', 'text', 'subject', 'date'], dtype='object')"
      ]
     },
     "execution_count": 10,
     "metadata": {},
     "output_type": "execute_result"
    }
   ],
   "source": [
    "# finding out the column names of the dataset\n",
    "fake_data.columns"
   ]
  },
  {
   "cell_type": "markdown",
   "id": "08ad3178",
   "metadata": {},
   "source": [
    "#### Size of the Datasets"
   ]
  },
  {
   "cell_type": "code",
   "execution_count": 11,
   "id": "bd6ca5d1",
   "metadata": {},
   "outputs": [
    {
     "data": {
      "text/plain": [
       "(21417, 4)"
      ]
     },
     "execution_count": 11,
     "metadata": {},
     "output_type": "execute_result"
    }
   ],
   "source": [
    "# finding out the size of the extracted datset\n",
    "true_data.shape "
   ]
  },
  {
   "cell_type": "code",
   "execution_count": 12,
   "id": "cd09461c",
   "metadata": {},
   "outputs": [
    {
     "data": {
      "text/plain": [
       "(23481, 4)"
      ]
     },
     "execution_count": 12,
     "metadata": {},
     "output_type": "execute_result"
    }
   ],
   "source": [
    "# finding out the size of the extracted datset\n",
    "fake_data.shape"
   ]
  },
  {
   "cell_type": "markdown",
   "id": "a945d57c",
   "metadata": {},
   "source": [
    "#### Viewing a few entries of the Datasets"
   ]
  },
  {
   "cell_type": "code",
   "execution_count": 13,
   "id": "c8b63880",
   "metadata": {},
   "outputs": [
    {
     "data": {
      "text/html": [
       "<div>\n",
       "<style scoped>\n",
       "    .dataframe tbody tr th:only-of-type {\n",
       "        vertical-align: middle;\n",
       "    }\n",
       "\n",
       "    .dataframe tbody tr th {\n",
       "        vertical-align: top;\n",
       "    }\n",
       "\n",
       "    .dataframe thead th {\n",
       "        text-align: right;\n",
       "    }\n",
       "</style>\n",
       "<table border=\"1\" class=\"dataframe\">\n",
       "  <thead>\n",
       "    <tr style=\"text-align: right;\">\n",
       "      <th></th>\n",
       "      <th>title</th>\n",
       "      <th>text</th>\n",
       "      <th>subject</th>\n",
       "      <th>date</th>\n",
       "    </tr>\n",
       "  </thead>\n",
       "  <tbody>\n",
       "    <tr>\n",
       "      <th>0</th>\n",
       "      <td>As U.S. budget fight looms, Republicans flip t...</td>\n",
       "      <td>WASHINGTON (Reuters) - The head of a conservat...</td>\n",
       "      <td>politicsNews</td>\n",
       "      <td>December 31, 2017</td>\n",
       "    </tr>\n",
       "    <tr>\n",
       "      <th>1</th>\n",
       "      <td>U.S. military to accept transgender recruits o...</td>\n",
       "      <td>WASHINGTON (Reuters) - Transgender people will...</td>\n",
       "      <td>politicsNews</td>\n",
       "      <td>December 29, 2017</td>\n",
       "    </tr>\n",
       "    <tr>\n",
       "      <th>2</th>\n",
       "      <td>Senior U.S. Republican senator: 'Let Mr. Muell...</td>\n",
       "      <td>WASHINGTON (Reuters) - The special counsel inv...</td>\n",
       "      <td>politicsNews</td>\n",
       "      <td>December 31, 2017</td>\n",
       "    </tr>\n",
       "    <tr>\n",
       "      <th>3</th>\n",
       "      <td>FBI Russia probe helped by Australian diplomat...</td>\n",
       "      <td>WASHINGTON (Reuters) - Trump campaign adviser ...</td>\n",
       "      <td>politicsNews</td>\n",
       "      <td>December 30, 2017</td>\n",
       "    </tr>\n",
       "    <tr>\n",
       "      <th>4</th>\n",
       "      <td>Trump wants Postal Service to charge 'much mor...</td>\n",
       "      <td>SEATTLE/WASHINGTON (Reuters) - President Donal...</td>\n",
       "      <td>politicsNews</td>\n",
       "      <td>December 29, 2017</td>\n",
       "    </tr>\n",
       "  </tbody>\n",
       "</table>\n",
       "</div>"
      ],
      "text/plain": [
       "                                               title  \\\n",
       "0  As U.S. budget fight looms, Republicans flip t...   \n",
       "1  U.S. military to accept transgender recruits o...   \n",
       "2  Senior U.S. Republican senator: 'Let Mr. Muell...   \n",
       "3  FBI Russia probe helped by Australian diplomat...   \n",
       "4  Trump wants Postal Service to charge 'much mor...   \n",
       "\n",
       "                                                text       subject  \\\n",
       "0  WASHINGTON (Reuters) - The head of a conservat...  politicsNews   \n",
       "1  WASHINGTON (Reuters) - Transgender people will...  politicsNews   \n",
       "2  WASHINGTON (Reuters) - The special counsel inv...  politicsNews   \n",
       "3  WASHINGTON (Reuters) - Trump campaign adviser ...  politicsNews   \n",
       "4  SEATTLE/WASHINGTON (Reuters) - President Donal...  politicsNews   \n",
       "\n",
       "                 date  \n",
       "0  December 31, 2017   \n",
       "1  December 29, 2017   \n",
       "2  December 31, 2017   \n",
       "3  December 30, 2017   \n",
       "4  December 29, 2017   "
      ]
     },
     "execution_count": 13,
     "metadata": {},
     "output_type": "execute_result"
    }
   ],
   "source": [
    "# displaying a few rows of the dataset\n",
    "true_data.head()"
   ]
  },
  {
   "cell_type": "code",
   "execution_count": 14,
   "id": "53ce19b8",
   "metadata": {
    "scrolled": true
   },
   "outputs": [
    {
     "data": {
      "text/html": [
       "<div>\n",
       "<style scoped>\n",
       "    .dataframe tbody tr th:only-of-type {\n",
       "        vertical-align: middle;\n",
       "    }\n",
       "\n",
       "    .dataframe tbody tr th {\n",
       "        vertical-align: top;\n",
       "    }\n",
       "\n",
       "    .dataframe thead th {\n",
       "        text-align: right;\n",
       "    }\n",
       "</style>\n",
       "<table border=\"1\" class=\"dataframe\">\n",
       "  <thead>\n",
       "    <tr style=\"text-align: right;\">\n",
       "      <th></th>\n",
       "      <th>title</th>\n",
       "      <th>text</th>\n",
       "      <th>subject</th>\n",
       "      <th>date</th>\n",
       "    </tr>\n",
       "  </thead>\n",
       "  <tbody>\n",
       "    <tr>\n",
       "      <th>0</th>\n",
       "      <td>Donald Trump Sends Out Embarrassing New Year’...</td>\n",
       "      <td>Donald Trump just couldn t wish all Americans ...</td>\n",
       "      <td>News</td>\n",
       "      <td>December 31, 2017</td>\n",
       "    </tr>\n",
       "    <tr>\n",
       "      <th>1</th>\n",
       "      <td>Drunk Bragging Trump Staffer Started Russian ...</td>\n",
       "      <td>House Intelligence Committee Chairman Devin Nu...</td>\n",
       "      <td>News</td>\n",
       "      <td>December 31, 2017</td>\n",
       "    </tr>\n",
       "    <tr>\n",
       "      <th>2</th>\n",
       "      <td>Sheriff David Clarke Becomes An Internet Joke...</td>\n",
       "      <td>On Friday, it was revealed that former Milwauk...</td>\n",
       "      <td>News</td>\n",
       "      <td>December 30, 2017</td>\n",
       "    </tr>\n",
       "    <tr>\n",
       "      <th>3</th>\n",
       "      <td>Trump Is So Obsessed He Even Has Obama’s Name...</td>\n",
       "      <td>On Christmas day, Donald Trump announced that ...</td>\n",
       "      <td>News</td>\n",
       "      <td>December 29, 2017</td>\n",
       "    </tr>\n",
       "    <tr>\n",
       "      <th>4</th>\n",
       "      <td>Pope Francis Just Called Out Donald Trump Dur...</td>\n",
       "      <td>Pope Francis used his annual Christmas Day mes...</td>\n",
       "      <td>News</td>\n",
       "      <td>December 25, 2017</td>\n",
       "    </tr>\n",
       "  </tbody>\n",
       "</table>\n",
       "</div>"
      ],
      "text/plain": [
       "                                               title  \\\n",
       "0   Donald Trump Sends Out Embarrassing New Year’...   \n",
       "1   Drunk Bragging Trump Staffer Started Russian ...   \n",
       "2   Sheriff David Clarke Becomes An Internet Joke...   \n",
       "3   Trump Is So Obsessed He Even Has Obama’s Name...   \n",
       "4   Pope Francis Just Called Out Donald Trump Dur...   \n",
       "\n",
       "                                                text subject  \\\n",
       "0  Donald Trump just couldn t wish all Americans ...    News   \n",
       "1  House Intelligence Committee Chairman Devin Nu...    News   \n",
       "2  On Friday, it was revealed that former Milwauk...    News   \n",
       "3  On Christmas day, Donald Trump announced that ...    News   \n",
       "4  Pope Francis used his annual Christmas Day mes...    News   \n",
       "\n",
       "                date  \n",
       "0  December 31, 2017  \n",
       "1  December 31, 2017  \n",
       "2  December 30, 2017  \n",
       "3  December 29, 2017  \n",
       "4  December 25, 2017  "
      ]
     },
     "execution_count": 14,
     "metadata": {},
     "output_type": "execute_result"
    }
   ],
   "source": [
    "# displaying a few rows of the dataset\n",
    "fake_data.head()"
   ]
  },
  {
   "cell_type": "markdown",
   "id": "c19e349c",
   "metadata": {},
   "source": [
    "## Data Pre-Processing"
   ]
  },
  {
   "cell_type": "markdown",
   "id": "6cd79bbe",
   "metadata": {},
   "source": [
    "Setting the labels of true data to be true and fake_data to be fake"
   ]
  },
  {
   "cell_type": "code",
   "execution_count": 15,
   "id": "7445ff0e",
   "metadata": {},
   "outputs": [],
   "source": [
    "true_data[\"label\"] = \"TRUE\"\n",
    "fake_data[\"label\"] = \"FAKE\""
   ]
  },
  {
   "cell_type": "markdown",
   "id": "a963feac",
   "metadata": {},
   "source": [
    "Dropping columns that are unneccessary"
   ]
  },
  {
   "cell_type": "code",
   "execution_count": 16,
   "id": "c2c78f6b",
   "metadata": {},
   "outputs": [],
   "source": [
    "true_data = true_data.drop(columns= [\"subject\", \"date\"])\n",
    "fake_data = fake_data.drop(columns= [\"subject\", \"date\"])"
   ]
  },
  {
   "cell_type": "markdown",
   "id": "0159416a",
   "metadata": {},
   "source": [
    "Combining the true and fake datasets to become a combined dataset"
   ]
  },
  {
   "cell_type": "code",
   "execution_count": 17,
   "id": "153cec57",
   "metadata": {},
   "outputs": [],
   "source": [
    "combined_data = pd.concat([true_data, fake_data], axis=0, ignore_index=True)"
   ]
  },
  {
   "cell_type": "markdown",
   "id": "8f987bbe",
   "metadata": {},
   "source": [
    "#### Viewing a few entries of the combined Dataset"
   ]
  },
  {
   "cell_type": "code",
   "execution_count": 18,
   "id": "e7541ae2",
   "metadata": {
    "scrolled": true
   },
   "outputs": [
    {
     "data": {
      "text/html": [
       "<div>\n",
       "<style scoped>\n",
       "    .dataframe tbody tr th:only-of-type {\n",
       "        vertical-align: middle;\n",
       "    }\n",
       "\n",
       "    .dataframe tbody tr th {\n",
       "        vertical-align: top;\n",
       "    }\n",
       "\n",
       "    .dataframe thead th {\n",
       "        text-align: right;\n",
       "    }\n",
       "</style>\n",
       "<table border=\"1\" class=\"dataframe\">\n",
       "  <thead>\n",
       "    <tr style=\"text-align: right;\">\n",
       "      <th></th>\n",
       "      <th>title</th>\n",
       "      <th>text</th>\n",
       "      <th>label</th>\n",
       "    </tr>\n",
       "  </thead>\n",
       "  <tbody>\n",
       "    <tr>\n",
       "      <th>0</th>\n",
       "      <td>As U.S. budget fight looms, Republicans flip t...</td>\n",
       "      <td>WASHINGTON (Reuters) - The head of a conservat...</td>\n",
       "      <td>TRUE</td>\n",
       "    </tr>\n",
       "    <tr>\n",
       "      <th>1</th>\n",
       "      <td>U.S. military to accept transgender recruits o...</td>\n",
       "      <td>WASHINGTON (Reuters) - Transgender people will...</td>\n",
       "      <td>TRUE</td>\n",
       "    </tr>\n",
       "    <tr>\n",
       "      <th>2</th>\n",
       "      <td>Senior U.S. Republican senator: 'Let Mr. Muell...</td>\n",
       "      <td>WASHINGTON (Reuters) - The special counsel inv...</td>\n",
       "      <td>TRUE</td>\n",
       "    </tr>\n",
       "    <tr>\n",
       "      <th>3</th>\n",
       "      <td>FBI Russia probe helped by Australian diplomat...</td>\n",
       "      <td>WASHINGTON (Reuters) - Trump campaign adviser ...</td>\n",
       "      <td>TRUE</td>\n",
       "    </tr>\n",
       "    <tr>\n",
       "      <th>4</th>\n",
       "      <td>Trump wants Postal Service to charge 'much mor...</td>\n",
       "      <td>SEATTLE/WASHINGTON (Reuters) - President Donal...</td>\n",
       "      <td>TRUE</td>\n",
       "    </tr>\n",
       "  </tbody>\n",
       "</table>\n",
       "</div>"
      ],
      "text/plain": [
       "                                               title  \\\n",
       "0  As U.S. budget fight looms, Republicans flip t...   \n",
       "1  U.S. military to accept transgender recruits o...   \n",
       "2  Senior U.S. Republican senator: 'Let Mr. Muell...   \n",
       "3  FBI Russia probe helped by Australian diplomat...   \n",
       "4  Trump wants Postal Service to charge 'much mor...   \n",
       "\n",
       "                                                text label  \n",
       "0  WASHINGTON (Reuters) - The head of a conservat...  TRUE  \n",
       "1  WASHINGTON (Reuters) - Transgender people will...  TRUE  \n",
       "2  WASHINGTON (Reuters) - The special counsel inv...  TRUE  \n",
       "3  WASHINGTON (Reuters) - Trump campaign adviser ...  TRUE  \n",
       "4  SEATTLE/WASHINGTON (Reuters) - President Donal...  TRUE  "
      ]
     },
     "execution_count": 18,
     "metadata": {},
     "output_type": "execute_result"
    }
   ],
   "source": [
    "# displaying a few rows of the dataset\n",
    "combined_data.head()"
   ]
  },
  {
   "cell_type": "markdown",
   "id": "61f923dd",
   "metadata": {},
   "source": [
    "#### Viewing the breakdown of the combined Dataset labels"
   ]
  },
  {
   "cell_type": "code",
   "execution_count": 19,
   "id": "120cff6d",
   "metadata": {
    "scrolled": false
   },
   "outputs": [
    {
     "data": {
      "image/png": "[encoded data removed]",
      "text/plain": [
       "<Figure size 640x480 with 1 Axes>"
      ]
     },
     "metadata": {},
     "output_type": "display_data"
    }
   ],
   "source": [
    "combined_dataset_breakdown = combined_data['label'].value_counts()\n",
    "# Plot the value counts as a bar chart\n",
    "combined_dataset_breakdown.plot(kind='bar')\n",
    "plt.show()"
   ]
  },
  {
   "cell_type": "markdown",
   "id": "069165ee",
   "metadata": {},
   "source": [
    "Setting labels that are fake to be 0 and labels that are true to be 1 "
   ]
  },
  {
   "cell_type": "code",
   "execution_count": 20,
   "id": "c3371384",
   "metadata": {},
   "outputs": [],
   "source": [
    "raw_data['label'] = raw_data.label.map({'FAKE':0, 'REAL':1})\n",
    "combined_data['label'] = combined_data.label.map({'FAKE':0, 'TRUE':1})"
   ]
  },
  {
   "cell_type": "markdown",
   "id": "14719dbc",
   "metadata": {},
   "source": [
    "Merging Dataset 1 with the combined dataset(of Dataset 2 & 3)"
   ]
  },
  {
   "cell_type": "code",
   "execution_count": 21,
   "id": "0dff1bdd",
   "metadata": {},
   "outputs": [],
   "source": [
    "merged_data = pd.concat([raw_data, combined_data], axis=0, ignore_index=True)"
   ]
  },
  {
   "cell_type": "markdown",
   "id": "3bb3ea52",
   "metadata": {},
   "source": [
    "#### Size of the Merged Dataset"
   ]
  },
  {
   "cell_type": "code",
   "execution_count": 22,
   "id": "9f30e340",
   "metadata": {},
   "outputs": [
    {
     "data": {
      "text/plain": [
       "(51233, 4)"
      ]
     },
     "execution_count": 22,
     "metadata": {},
     "output_type": "execute_result"
    }
   ],
   "source": [
    "# finding out the size of the extracted datset\n",
    "merged_data.shape"
   ]
  },
  {
   "cell_type": "markdown",
   "id": "6c12e81b",
   "metadata": {},
   "source": [
    "#### Viewing a few entries of the combined Dataset"
   ]
  },
  {
   "cell_type": "code",
   "execution_count": 23,
   "id": "a6a79588",
   "metadata": {},
   "outputs": [
    {
     "data": {
      "text/html": [
       "<div>\n",
       "<style scoped>\n",
       "    .dataframe tbody tr th:only-of-type {\n",
       "        vertical-align: middle;\n",
       "    }\n",
       "\n",
       "    .dataframe tbody tr th {\n",
       "        vertical-align: top;\n",
       "    }\n",
       "\n",
       "    .dataframe thead th {\n",
       "        text-align: right;\n",
       "    }\n",
       "</style>\n",
       "<table border=\"1\" class=\"dataframe\">\n",
       "  <thead>\n",
       "    <tr style=\"text-align: right;\">\n",
       "      <th></th>\n",
       "      <th>Unnamed: 0</th>\n",
       "      <th>title</th>\n",
       "      <th>text</th>\n",
       "      <th>label</th>\n",
       "    </tr>\n",
       "  </thead>\n",
       "  <tbody>\n",
       "    <tr>\n",
       "      <th>0</th>\n",
       "      <td>8476.0</td>\n",
       "      <td>You Can Smell Hillary’s Fear</td>\n",
       "      <td>Daniel Greenfield, a Shillman Journalism Fello...</td>\n",
       "      <td>0</td>\n",
       "    </tr>\n",
       "    <tr>\n",
       "      <th>1</th>\n",
       "      <td>10294.0</td>\n",
       "      <td>Watch The Exact Moment Paul Ryan Committed Pol...</td>\n",
       "      <td>Google Pinterest Digg Linkedin Reddit Stumbleu...</td>\n",
       "      <td>0</td>\n",
       "    </tr>\n",
       "    <tr>\n",
       "      <th>2</th>\n",
       "      <td>3608.0</td>\n",
       "      <td>Kerry to go to Paris in gesture of sympathy</td>\n",
       "      <td>U.S. Secretary of State John F. Kerry said Mon...</td>\n",
       "      <td>1</td>\n",
       "    </tr>\n",
       "    <tr>\n",
       "      <th>3</th>\n",
       "      <td>10142.0</td>\n",
       "      <td>Bernie supporters on Twitter erupt in anger ag...</td>\n",
       "      <td>— Kaydee King (@KaydeeKing) November 9, 2016 T...</td>\n",
       "      <td>0</td>\n",
       "    </tr>\n",
       "    <tr>\n",
       "      <th>4</th>\n",
       "      <td>875.0</td>\n",
       "      <td>The Battle of New York: Why This Primary Matters</td>\n",
       "      <td>It's primary day in New York and front-runners...</td>\n",
       "      <td>1</td>\n",
       "    </tr>\n",
       "  </tbody>\n",
       "</table>\n",
       "</div>"
      ],
      "text/plain": [
       "   Unnamed: 0                                              title  \\\n",
       "0      8476.0                       You Can Smell Hillary’s Fear   \n",
       "1     10294.0  Watch The Exact Moment Paul Ryan Committed Pol...   \n",
       "2      3608.0        Kerry to go to Paris in gesture of sympathy   \n",
       "3     10142.0  Bernie supporters on Twitter erupt in anger ag...   \n",
       "4       875.0   The Battle of New York: Why This Primary Matters   \n",
       "\n",
       "                                                text  label  \n",
       "0  Daniel Greenfield, a Shillman Journalism Fello...      0  \n",
       "1  Google Pinterest Digg Linkedin Reddit Stumbleu...      0  \n",
       "2  U.S. Secretary of State John F. Kerry said Mon...      1  \n",
       "3  — Kaydee King (@KaydeeKing) November 9, 2016 T...      0  \n",
       "4  It's primary day in New York and front-runners...      1  "
      ]
     },
     "execution_count": 23,
     "metadata": {},
     "output_type": "execute_result"
    }
   ],
   "source": [
    "# displaying a few rows of the dataset\n",
    "merged_data.head()"
   ]
  },
  {
   "cell_type": "markdown",
   "id": "3df1d7eb",
   "metadata": {},
   "source": [
    "#### Viewing the total breakdown of the Merged Dataset's labels"
   ]
  },
  {
   "cell_type": "code",
   "execution_count": 24,
   "id": "afa3d2d8",
   "metadata": {
    "scrolled": false
   },
   "outputs": [
    {
     "data": {
      "image/png": "[encoded data removed]",
      "text/plain": [
       "<Figure size 640x480 with 1 Axes>"
      ]
     },
     "metadata": {},
     "output_type": "display_data"
    }
   ],
   "source": [
    "total_breakdown = merged_data['label'].value_counts()\n",
    "# Plotting the total breakdown of the merged dataset label value counts as a bar chart\n",
    "ax = total_breakdown.plot(kind='bar')\n",
    "plt.xlabel('Label')\n",
    "plt.ylabel('Number of News')\n",
    "custom_labels = ['Fake News', 'Real News']\n",
    "ax.set_xticklabels(custom_labels, rotation=0)\n",
    "\n",
    "# Displaying the value counts of the label\n",
    "for i, count in enumerate(total_breakdown):\n",
    "    ax.text(i, count + 0.1, str(count), ha='center', va='bottom')\n",
    "plt.show()"
   ]
  },
  {
   "cell_type": "markdown",
   "id": "f4d5ddf4",
   "metadata": {},
   "source": [
    "There are 2057 more Fake News articles than Real News articles."
   ]
  },
  {
   "cell_type": "markdown",
   "id": "c2d83df4",
   "metadata": {},
   "source": [
    "I plan to remove 3 Real News articles and 2060 Fake News articles to balance the dataset."
   ]
  },
  {
   "cell_type": "code",
   "execution_count": 25,
   "id": "15403b82",
   "metadata": {},
   "outputs": [
    {
     "name": "stdout",
     "output_type": "stream",
     "text": [
      "2060\n"
     ]
    }
   ],
   "source": [
    "print(26645-24585)"
   ]
  },
  {
   "cell_type": "markdown",
   "id": "80940cf6",
   "metadata": {},
   "source": [
    "### Cleaning the data by making the letters lowercase, removing punctuation and stopwords"
   ]
  },
  {
   "cell_type": "code",
   "execution_count": 26,
   "id": "1bb59f70",
   "metadata": {},
   "outputs": [],
   "source": [
    "# Function to remove punctuation etc\n",
    "def remove_punctuation(text):\n",
    "    translator = str.maketrans('', '', string.punctuation)\n",
    "    text = text.translate(translator)\n",
    "    return text\n",
    "\n",
    "# Function to remove stopwords and make the words lowercase etc\n",
    "def remove_stopwords(text):\n",
    "    stop_words = set(stopwords.words('english'))\n",
    "    words = nltk.word_tokenize(text)\n",
    "    filtered_words = [word for word in words if word.lower() not in stop_words]\n",
    "    return ' '.join(filtered_words)\n",
    "\n",
    "# Function to clean the data overall\n",
    "def clean_data(text):\n",
    "    cleaned_text = text.lower()\n",
    "    cleaned_text = remove_punctuation(cleaned_text)\n",
    "    cleaned_text = remove_stopwords(cleaned_text)\n",
    "    return cleaned_text"
   ]
  },
  {
   "cell_type": "code",
   "execution_count": 27,
   "id": "597943b3",
   "metadata": {},
   "outputs": [
    {
     "name": "stdout",
     "output_type": "stream",
     "text": [
      "0        Daniel Greenfield, a Shillman Journalism Fello...\n",
      "1        Google Pinterest Digg Linkedin Reddit Stumbleu...\n",
      "2        U.S. Secretary of State John F. Kerry said Mon...\n",
      "3        — Kaydee King (@KaydeeKing) November 9, 2016 T...\n",
      "4        It's primary day in New York and front-runners...\n",
      "                               ...                        \n",
      "51228    21st Century Wire says As 21WIRE reported earl...\n",
      "51229    21st Century Wire says It s a familiar theme. ...\n",
      "51230    Patrick Henningsen  21st Century WireRemember ...\n",
      "51231    21st Century Wire says Al Jazeera America will...\n",
      "51232    21st Century Wire says As 21WIRE predicted in ...\n",
      "Name: text, Length: 51233, dtype: object\n"
     ]
    }
   ],
   "source": [
    "# creating a new data copy before cleaning the data in the dataset\n",
    "cleaned_data = merged_data.copy()\n",
    "print(cleaned_data['text'])"
   ]
  },
  {
   "cell_type": "code",
   "execution_count": 28,
   "id": "c3654bd3",
   "metadata": {},
   "outputs": [
    {
     "name": "stdout",
     "output_type": "stream",
     "text": [
      "0        daniel greenfield shillman journalism fellow f...\n",
      "1        google pinterest digg linkedin reddit stumbleu...\n",
      "2        us secretary state john f kerry said monday st...\n",
      "3        — kaydee king kaydeeking november 9 2016 lesso...\n",
      "4        primary day new york frontrunners hillary clin...\n",
      "                               ...                        \n",
      "51228    21st century wire says 21wire reported earlier...\n",
      "51229    21st century wire says familiar theme whenever...\n",
      "51230    patrick henningsen 21st century wireremember o...\n",
      "51231    21st century wire says al jazeera america go h...\n",
      "51232    21st century wire says 21wire predicted new ye...\n",
      "Name: text, Length: 51233, dtype: object\n"
     ]
    }
   ],
   "source": [
    "# cleaning the data in the dataset\n",
    "cleaned_data['text'] = cleaned_data['text'].apply(clean_data)\n",
    "# print the data to see if the data have been cleaned\n",
    "print(cleaned_data['text'])"
   ]
  },
  {
   "cell_type": "markdown",
   "id": "a509a0b8",
   "metadata": {},
   "source": [
    "### Making data balanced"
   ]
  },
  {
   "cell_type": "markdown",
   "id": "e36171e0",
   "metadata": {},
   "source": [
    "Removing the 2060 Fake News articles and 3 Real News articles."
   ]
  },
  {
   "cell_type": "code",
   "execution_count": 29,
   "id": "6aa55a7b",
   "metadata": {},
   "outputs": [],
   "source": [
    "# creating a new data copy before balancing the dataset\n",
    "balanced_data = cleaned_data.copy()\n",
    "# dropping 2060 Fake News articles\n",
    "balanced_data = balanced_data.drop(balanced_data[balanced_data['label'] == 0].head(2060).index)\n",
    "# dropping 3 Real News articles\n",
    "balanced_data = balanced_data.drop(balanced_data[balanced_data['label'] == 1].head(3).index)"
   ]
  },
  {
   "cell_type": "markdown",
   "id": "27c8aec7",
   "metadata": {},
   "source": [
    "### Removing redundant data"
   ]
  },
  {
   "cell_type": "markdown",
   "id": "9c1000e6",
   "metadata": {},
   "source": [
    "Dropping unlabelled data"
   ]
  },
  {
   "cell_type": "code",
   "execution_count": 30,
   "id": "8d1c56c8",
   "metadata": {},
   "outputs": [],
   "source": [
    "# creating a new data copy before removing redundant data from the dataset\n",
    "complete_data = balanced_data.copy()\n",
    "# dropping unlabelled articles\n",
    "complete_data = complete_data.dropna(subset=['label'])\n",
    "# dropping an unneccessary column\n",
    "complete_data = complete_data.drop(['Unnamed: 0'], axis=1)\n",
    "# resetting the index of the dataset\n",
    "complete_data = complete_data.reset_index(drop=True)"
   ]
  },
  {
   "cell_type": "code",
   "execution_count": 31,
   "id": "d2d6a9d1",
   "metadata": {},
   "outputs": [
    {
     "data": {
      "text/html": [
       "<div>\n",
       "<style scoped>\n",
       "    .dataframe tbody tr th:only-of-type {\n",
       "        vertical-align: middle;\n",
       "    }\n",
       "\n",
       "    .dataframe tbody tr th {\n",
       "        vertical-align: top;\n",
       "    }\n",
       "\n",
       "    .dataframe thead th {\n",
       "        text-align: right;\n",
       "    }\n",
       "</style>\n",
       "<table border=\"1\" class=\"dataframe\">\n",
       "  <thead>\n",
       "    <tr style=\"text-align: right;\">\n",
       "      <th></th>\n",
       "      <th>title</th>\n",
       "      <th>text</th>\n",
       "      <th>label</th>\n",
       "    </tr>\n",
       "  </thead>\n",
       "  <tbody>\n",
       "    <tr>\n",
       "      <th>0</th>\n",
       "      <td>Fact check: Trump and Clinton at the 'commande...</td>\n",
       "      <td>hillary clinton donald trump made inaccurate c...</td>\n",
       "      <td>1</td>\n",
       "    </tr>\n",
       "    <tr>\n",
       "      <th>1</th>\n",
       "      <td>Iran reportedly makes new push for uranium con...</td>\n",
       "      <td>iranian negotiators reportedly made lastditch ...</td>\n",
       "      <td>1</td>\n",
       "    </tr>\n",
       "    <tr>\n",
       "      <th>2</th>\n",
       "      <td>With all three Clintons in Iowa, a glimpse at ...</td>\n",
       "      <td>cedar rapids iowa — “ one wonderful rallies en...</td>\n",
       "      <td>1</td>\n",
       "    </tr>\n",
       "    <tr>\n",
       "      <th>3</th>\n",
       "      <td>Donald Trump’s Shockingly Weak Delegate Game S...</td>\n",
       "      <td>donald trump ’ organizational problems gone ba...</td>\n",
       "      <td>1</td>\n",
       "    </tr>\n",
       "    <tr>\n",
       "      <th>4</th>\n",
       "      <td>Trump takes on Cruz, but lightly</td>\n",
       "      <td>killing obama administration rules dismantling...</td>\n",
       "      <td>1</td>\n",
       "    </tr>\n",
       "  </tbody>\n",
       "</table>\n",
       "</div>"
      ],
      "text/plain": [
       "                                               title  \\\n",
       "0  Fact check: Trump and Clinton at the 'commande...   \n",
       "1  Iran reportedly makes new push for uranium con...   \n",
       "2  With all three Clintons in Iowa, a glimpse at ...   \n",
       "3  Donald Trump’s Shockingly Weak Delegate Game S...   \n",
       "4                   Trump takes on Cruz, but lightly   \n",
       "\n",
       "                                                text  label  \n",
       "0  hillary clinton donald trump made inaccurate c...      1  \n",
       "1  iranian negotiators reportedly made lastditch ...      1  \n",
       "2  cedar rapids iowa — “ one wonderful rallies en...      1  \n",
       "3  donald trump ’ organizational problems gone ba...      1  \n",
       "4  killing obama administration rules dismantling...      1  "
      ]
     },
     "execution_count": 31,
     "metadata": {},
     "output_type": "execute_result"
    }
   ],
   "source": [
    "# displaying a few rows of the dataset\n",
    "complete_data.head()"
   ]
  },
  {
   "cell_type": "code",
   "execution_count": 32,
   "id": "b48a332a",
   "metadata": {},
   "outputs": [
    {
     "data": {
      "image/png": "[encoded data removed]",
      "text/plain": [
       "<Figure size 640x480 with 1 Axes>"
      ]
     },
     "metadata": {},
     "output_type": "display_data"
    }
   ],
   "source": [
    "updated_breakdown = complete_data['label'].value_counts()\n",
    "# Plotting the updated breakdown of the final complete dataset label value counts as a bar chart\n",
    "ax = updated_breakdown.plot(kind='bar')\n",
    "plt.xlabel('Label')\n",
    "plt.ylabel('Number of News')\n",
    "custom_labels = ['Fake News', 'Real News']\n",
    "ax.set_xticklabels(custom_labels, rotation=0)\n",
    "\n",
    "# Displaying the updated value counts of the labels in the dataset\n",
    "for i, count in enumerate(updated_breakdown):\n",
    "    ax.text(i, count + 0.1, str(count), ha='center', va='bottom')\n",
    "plt.show()"
   ]
  },
  {
   "cell_type": "markdown",
   "id": "7cb0ebc4",
   "metadata": {},
   "source": [
    "## Preparing Feature Extractors"
   ]
  },
  {
   "cell_type": "markdown",
   "id": "51167ae6",
   "metadata": {},
   "source": [
    "### Count Vectorizer"
   ]
  },
  {
   "cell_type": "code",
   "execution_count": 33,
   "id": "cf17e256",
   "metadata": {},
   "outputs": [
    {
     "name": "stdout",
     "output_type": "stream",
     "text": [
      "CountVectorizer()\n"
     ]
    }
   ],
   "source": [
    "# initializing the Count vectorizer\n",
    "count_vectorizer = CountVectorizer()\n",
    "print(count_vectorizer)"
   ]
  },
  {
   "cell_type": "markdown",
   "id": "0cd2e71b",
   "metadata": {},
   "source": [
    "### TF-IDF Vectorizer"
   ]
  },
  {
   "cell_type": "code",
   "execution_count": 34,
   "id": "1bfbf164",
   "metadata": {},
   "outputs": [
    {
     "name": "stdout",
     "output_type": "stream",
     "text": [
      "TfidfVectorizer()\n"
     ]
    }
   ],
   "source": [
    "# initializing the TF-IDF vectorizer\n",
    "tfidf_vectorizer = TfidfVectorizer()\n",
    "print(tfidf_vectorizer)"
   ]
  },
  {
   "cell_type": "markdown",
   "id": "9bd27fa6",
   "metadata": {},
   "source": [
    "### Assigning the Data"
   ]
  },
  {
   "cell_type": "code",
   "execution_count": 35,
   "id": "6c5570d3",
   "metadata": {},
   "outputs": [],
   "source": [
    "# assigning the X and y variables with the article data and labels\n",
    "X = complete_data['text']\n",
    "y = complete_data['label']"
   ]
  },
  {
   "cell_type": "markdown",
   "id": "413f443d",
   "metadata": {},
   "source": [
    "### Splitting the Data"
   ]
  },
  {
   "cell_type": "code",
   "execution_count": 36,
   "id": "db636b69",
   "metadata": {},
   "outputs": [],
   "source": [
    "# Splitting the X_train, y_train, X_test, y_test variables such that the test size if 0.2 of the dataset\n",
    "X_train, X_test, y_train, y_test = train_test_split(X, y, test_size=0.2, random_state=42)"
   ]
  },
  {
   "cell_type": "code",
   "execution_count": 37,
   "id": "8adda8be",
   "metadata": {},
   "outputs": [],
   "source": [
    "# fitting the Count vectorizer with the X_train data\n",
    "count_train = count_vectorizer.fit_transform(X_train)\n",
    "# fitting the IF-IDF vectorizer with the X_train data\n",
    "tfidf_train = tfidf_vectorizer.fit_transform(X_train)"
   ]
  },
  {
   "cell_type": "code",
   "execution_count": 38,
   "id": "3d7a8b4b",
   "metadata": {},
   "outputs": [],
   "source": [
    "# transforming the Count vectorizer with the X_test data\n",
    "count_test = count_vectorizer.transform(X_test)\n",
    "# transforming the TF-IDF vectorizer with the X_test data\n",
    "tfidf_test = tfidf_vectorizer.transform(X_test)"
   ]
  },
  {
   "cell_type": "markdown",
   "id": "2a094879",
   "metadata": {},
   "source": [
    "## Training the Baseline Model"
   ]
  },
  {
   "cell_type": "markdown",
   "id": "c6db5505",
   "metadata": {},
   "source": [
    "### Importing the baseline model"
   ]
  },
  {
   "cell_type": "code",
   "execution_count": 39,
   "id": "8aa805c8",
   "metadata": {},
   "outputs": [],
   "source": [
    "# Initializing the Naive Bayes Model\n",
    "nb = MultinomialNB()"
   ]
  },
  {
   "cell_type": "markdown",
   "id": "343b1c31",
   "metadata": {},
   "source": [
    "### Training the baseline model with the different feature extractor data"
   ]
  },
  {
   "cell_type": "code",
   "execution_count": 40,
   "id": "76fe444a",
   "metadata": {},
   "outputs": [],
   "source": [
    "# Fitting the Naive Bayes Model using the Count vectorizer data and y_train data\n",
    "multi_nb_count = nb.fit(count_train, y_train)\n",
    "# Fitting the Naive Bayes Model using the TF-IDF vectorizer data and y_train data\n",
    "multi_nb_tfidf = nb.fit(tfidf_train, y_train)"
   ]
  },
  {
   "cell_type": "markdown",
   "id": "5a8cd76f",
   "metadata": {},
   "source": [
    "### Making predictions with the baseline model on the 2 feature extractor's data"
   ]
  },
  {
   "cell_type": "code",
   "execution_count": 41,
   "id": "66589ca0",
   "metadata": {},
   "outputs": [],
   "source": [
    "# storing the Naive Bayes Model predictions using the Count vectorizer\n",
    "nb_count_pred = nb.predict(count_test)\n",
    "# storing the Naive Bayes Model predictions using the TF-IDF vectorizer\n",
    "nb_tfidf_pred = nb.predict(tfidf_test)"
   ]
  },
  {
   "cell_type": "markdown",
   "id": "c60c0a37",
   "metadata": {},
   "source": [
    "### Results of the baseline model using the 2 different feature extractor's data"
   ]
  },
  {
   "cell_type": "code",
   "execution_count": 42,
   "id": "3f543535",
   "metadata": {},
   "outputs": [],
   "source": [
    "# storing the Naive Bayes Model score using the Count vectorizer\n",
    "score1 = metrics.accuracy_score(y_test, nb_count_pred)\n",
    "# storing the Naive Bayes Model score using the TF-IDF vectorizer\n",
    "score2 = metrics.accuracy_score(y_test, nb_tfidf_pred)"
   ]
  },
  {
   "cell_type": "code",
   "execution_count": 43,
   "id": "a660484f",
   "metadata": {},
   "outputs": [
    {
     "name": "stdout",
     "output_type": "stream",
     "text": [
      "Accuracy Scores of Naive Bayes model:\n",
      "Using Count Vectorizer: 88.0923327232052 %\n",
      "Using TF-IDF Vectorizer: 89.04820012202562 %\n"
     ]
    }
   ],
   "source": [
    "# printing the Naive Bayes Model scores using the 2 vectorizers\n",
    "print(\"Accuracy Scores of Naive Bayes model:\")\n",
    "print(\"Using Count Vectorizer:\", score1*100, \"%\")\n",
    "print(\"Using TF-IDF Vectorizer:\", score2*100, \"%\")"
   ]
  },
  {
   "cell_type": "markdown",
   "id": "f3c18ab0",
   "metadata": {},
   "source": [
    "### Making improvements to the baseline model"
   ]
  },
  {
   "cell_type": "code",
   "execution_count": 44,
   "id": "939d50d9",
   "metadata": {},
   "outputs": [],
   "source": [
    "# preparing a parameter grid to improve the model\n",
    "param_grid = {'alpha': [0.1, 0.5, 1.0, 1.5, 2.0]}"
   ]
  },
  {
   "cell_type": "code",
   "execution_count": 45,
   "id": "bc94b130",
   "metadata": {},
   "outputs": [
    {
     "data": {
      "text/plain": [
       "GridSearchCV(cv=5, estimator=MultinomialNB(),\n",
       "             param_grid={'alpha': [0.1, 0.5, 1.0, 1.5, 2.0]},\n",
       "             scoring='accuracy')"
      ]
     },
     "execution_count": 45,
     "metadata": {},
     "output_type": "execute_result"
    }
   ],
   "source": [
    "# Using GridSearchCV to train the Naive Bayes model using the Count vectorizer data\n",
    "improved_nb_count = GridSearchCV(nb, param_grid, cv=5, scoring='accuracy')\n",
    "improved_nb_count.fit(count_train, y_train)"
   ]
  },
  {
   "cell_type": "code",
   "execution_count": 46,
   "id": "a99de0ef",
   "metadata": {},
   "outputs": [
    {
     "data": {
      "text/plain": [
       "GridSearchCV(cv=5, estimator=MultinomialNB(),\n",
       "             param_grid={'alpha': [0.1, 0.5, 1.0, 1.5, 2.0]},\n",
       "             scoring='accuracy')"
      ]
     },
     "execution_count": 46,
     "metadata": {},
     "output_type": "execute_result"
    }
   ],
   "source": [
    "# Using GridSearchCV to train the Naive Bayes model using the TF-IDF vectorizer data\n",
    "improved_nb_tfidf = GridSearchCV(nb, param_grid, cv=5, scoring='accuracy')\n",
    "improved_nb_tfidf.fit(tfidf_train, y_train)"
   ]
  },
  {
   "cell_type": "markdown",
   "id": "305abb95",
   "metadata": {},
   "source": [
    "### Making predictions with the improved baseline model on the 2 feature extractor's data"
   ]
  },
  {
   "cell_type": "code",
   "execution_count": 47,
   "id": "633a9ca5",
   "metadata": {},
   "outputs": [],
   "source": [
    "# Using the improved Naive Bayes model using the Count vectorizer data to make new predictions\n",
    "improved_count_pred = improved_nb_count.predict(count_test)\n",
    "# Using the improved Naive Bayes model using the TF-IDF vectorizer data to make new predictions\n",
    "improved_tfidf_pred = improved_nb_tfidf.predict(tfidf_test)"
   ]
  },
  {
   "cell_type": "markdown",
   "id": "45509669",
   "metadata": {},
   "source": [
    "### Results of the improved baseline model using the 2 different feature extractor's data"
   ]
  },
  {
   "cell_type": "code",
   "execution_count": 48,
   "id": "a5fd0145",
   "metadata": {},
   "outputs": [],
   "source": [
    "# Storing the improved Naive Bayes model score(using the Count vectorizer data)\n",
    "improved_count_score = metrics.accuracy_score(y_test, improved_count_pred)\n",
    "# Storing the improved Naive Bayes model score(using the TF-IDF vectorizer data)\n",
    "improved_tfidf_score = metrics.accuracy_score(y_test, improved_tfidf_pred)"
   ]
  },
  {
   "cell_type": "code",
   "execution_count": 49,
   "id": "7ebc0ecf",
   "metadata": {},
   "outputs": [
    {
     "name": "stdout",
     "output_type": "stream",
     "text": [
      "Accuracy Scores of Naive Bayes model(improved):\n",
      "Using Count Vectorizer: 92.70896888346553 %\n",
      "Using TF-IDF Vectorizer: 91.04128533658735 %\n"
     ]
    }
   ],
   "source": [
    "# printing the Naive Bayes Model scores using the 2 vectorizers, after being improved\n",
    "print(\"Accuracy Scores of Naive Bayes model(improved):\")\n",
    "# Printing the improved Naive Bayes model score(using the Count vectorizer data)\n",
    "print(\"Using Count Vectorizer:\", improved_count_score*100, \"%\")\n",
    "# Printing the improved Naive Bayes model score(using the TF-IDF vectorizer data)\n",
    "print(\"Using TF-IDF Vectorizer:\", improved_tfidf_score*100, \"%\")"
   ]
  },
  {
   "cell_type": "markdown",
   "id": "2905fb12",
   "metadata": {},
   "source": [
    "We can see that the Count Vectorizer has a better accuracy score when used with the improved Naive Bayes model on the test data. Hence, we will be using this vectorizer and model from hereon."
   ]
  },
  {
   "cell_type": "markdown",
   "id": "37f7a5c8",
   "metadata": {},
   "source": [
    "### Storing the trained Baseline model (Naive Bayes) and the more suitable vectorizer(Count Vectorizer)"
   ]
  },
  {
   "cell_type": "code",
   "execution_count": 50,
   "id": "c8a46a5d",
   "metadata": {},
   "outputs": [],
   "source": [
    "# storing the Count vectorizer in the vectorizer.pkl file\n",
    "pickle.dump(count_vectorizer, open('vectorizer.pkl', 'wb'))"
   ]
  },
  {
   "cell_type": "code",
   "execution_count": 51,
   "id": "e9f41b6b",
   "metadata": {},
   "outputs": [],
   "source": [
    "# storing the Naive Bayes model in the initial_nb_model.pkl file\n",
    "pickle.dump(nb, open('initial_nb_model.pkl', 'wb'))"
   ]
  },
  {
   "cell_type": "code",
   "execution_count": 52,
   "id": "35a3da11",
   "metadata": {},
   "outputs": [],
   "source": [
    "# storing the improved Naive Bayes model in the improved_nb_model.pkl file\n",
    "pickle.dump(improved_nb_count, open('improved_nb_model.pkl', 'wb'))"
   ]
  },
  {
   "cell_type": "code",
   "execution_count": 61,
   "id": "a9702cb5",
   "metadata": {},
   "outputs": [],
   "source": [
    "# reading back the Count vectorizer in the vectorizer.pkl file\n",
    "load_vectorizer=pickle.load(open('vectorizer.pkl', 'rb'))"
   ]
  },
  {
   "cell_type": "code",
   "execution_count": 54,
   "id": "4da373db",
   "metadata": {},
   "outputs": [],
   "source": [
    "# reading back the Naive Bayes model in the initial_nb_model.pkl file\n",
    "load_nb_model=pickle.load(open('initial_nb_model.pkl', 'rb'))"
   ]
  },
  {
   "cell_type": "code",
   "execution_count": 138,
   "id": "d688e8ad",
   "metadata": {},
   "outputs": [],
   "source": [
    "# reading back the improved Naive Bayes model in the improved_nb_model.pkl file\n",
    "load_improved_nb_model=pickle.load(open('improved_nb_model.pkl', 'rb'))"
   ]
  },
  {
   "cell_type": "markdown",
   "id": "009943bb",
   "metadata": {},
   "source": [
    "## Training the LSTM Model"
   ]
  },
  {
   "cell_type": "markdown",
   "id": "261c7ed9",
   "metadata": {},
   "source": [
    "### Initializing the Tokenizer"
   ]
  },
  {
   "cell_type": "code",
   "execution_count": 63,
   "id": "b7da4a7c",
   "metadata": {},
   "outputs": [],
   "source": [
    "# initializing a Tokenizer\n",
    "tokenizer = Tokenizer()"
   ]
  },
  {
   "cell_type": "markdown",
   "id": "b3ed94bb",
   "metadata": {},
   "source": [
    "### Assigning the X_lstm and y_lstm data"
   ]
  },
  {
   "cell_type": "code",
   "execution_count": 64,
   "id": "42aa272b",
   "metadata": {},
   "outputs": [],
   "source": [
    "# fitting the texts on the tokenizer\n",
    "tokenizer.fit_on_texts(X)\n",
    "# fitting the texts on the tokenizer\n",
    "X_lstm = tokenizer.texts_to_sequences(X)\n",
    "# padding sequences to ensure consistent length for LSTM input\n",
    "X_lstm = pad_sequences(X_lstm)"
   ]
  },
  {
   "cell_type": "code",
   "execution_count": 65,
   "id": "33808c71",
   "metadata": {},
   "outputs": [],
   "source": [
    "# initializing the label encoder\n",
    "le = LabelEncoder()\n",
    "# encode the labels for binary classification\n",
    "y_lstm = le.fit_transform(y)"
   ]
  },
  {
   "cell_type": "markdown",
   "id": "231a57b0",
   "metadata": {},
   "source": [
    "### Splitting the Data"
   ]
  },
  {
   "cell_type": "code",
   "execution_count": 66,
   "id": "4eb36703",
   "metadata": {},
   "outputs": [],
   "source": [
    "# Splitting the X_train, y_train, X_test, y_test variables such that the test size if 0.2 of the dataset\n",
    "X_train_lstm, X_test_lstm, y_train_lstm, y_test_lstm = train_test_split(X_lstm, y_lstm, test_size=0.2, random_state=42)"
   ]
  },
  {
   "cell_type": "markdown",
   "id": "ee80d70a",
   "metadata": {},
   "source": [
    "### Preparing the LSTM Model"
   ]
  },
  {
   "cell_type": "code",
   "execution_count": 67,
   "id": "a951653d",
   "metadata": {},
   "outputs": [],
   "source": [
    "# setting the vocabulary size of the dataset for the LSTM model \n",
    "voc_size = len(tokenizer.word_index) + 1\n",
    "# setting the vectorizer features size of the dataset for the LSTM model \n",
    "embedding_vector_features = 100\n",
    "# setting the number of lstm units for the LSTM model \n",
    "lstm_units = 50"
   ]
  },
  {
   "cell_type": "code",
   "execution_count": 67,
   "id": "2616a050",
   "metadata": {},
   "outputs": [
    {
     "name": "stdout",
     "output_type": "stream",
     "text": [
      "WARNING:tensorflow:From C:\\Users\\65918\\anaconda3\\lib\\site-packages\\keras\\src\\backend.py:873: The name tf.get_default_graph is deprecated. Please use tf.compat.v1.get_default_graph instead.\n",
      "\n",
      "WARNING:tensorflow:From C:\\Users\\65918\\anaconda3\\lib\\site-packages\\keras\\src\\optimizers\\__init__.py:309: The name tf.train.Optimizer is deprecated. Please use tf.compat.v1.train.Optimizer instead.\n",
      "\n",
      "Model: \"sequential\"\n",
      "_________________________________________________________________\n",
      " Layer (type)                Output Shape              Param #   \n",
      "=================================================================\n",
      " embedding (Embedding)       (None, 10786, 100)        24926500  \n",
      "                                                                 \n",
      " lstm (LSTM)                 (None, 50)                30200     \n",
      "                                                                 \n",
      " dense (Dense)               (None, 1)                 51        \n",
      "                                                                 \n",
      "=================================================================\n",
      "Total params: 24956751 (95.20 MB)\n",
      "Trainable params: 24956751 (95.20 MB)\n",
      "Non-trainable params: 0 (0.00 Byte)\n",
      "_________________________________________________________________\n",
      "None\n"
     ]
    }
   ],
   "source": [
    "# Preparing the LSTM model\n",
    "LSTM_model = Sequential()\n",
    "LSTM_model.add(Embedding(voc_size, embedding_vector_features, input_length=(X_train_lstm.shape[1])))\n",
    "LSTM_model.add(LSTM(units=lstm_units, input_shape=(voc_size, embedding_vector_features)))\n",
    "LSTM_model.add(Dense(1, activation='sigmoid'))\n",
    "LSTM_model.compile(loss='binary_crossentropy', optimizer='adam', metrics=['accuracy'])\n",
    "print(LSTM_model.summary())"
   ]
  },
  {
   "cell_type": "markdown",
   "id": "fdad4126",
   "metadata": {},
   "source": [
    "### Fitting the LSTM Model with the Training data"
   ]
  },
  {
   "cell_type": "code",
   "execution_count": 68,
   "id": "472182ce",
   "metadata": {},
   "outputs": [
    {
     "name": "stdout",
     "output_type": "stream",
     "text": [
      "Epoch 1/2\n",
      "WARNING:tensorflow:From C:\\Users\\65918\\anaconda3\\lib\\site-packages\\keras\\src\\utils\\tf_utils.py:492: The name tf.ragged.RaggedTensorValue is deprecated. Please use tf.compat.v1.ragged.RaggedTensorValue instead.\n",
      "\n",
      "WARNING:tensorflow:From C:\\Users\\65918\\anaconda3\\lib\\site-packages\\keras\\src\\engine\\base_layer_utils.py:384: The name tf.executing_eagerly_outside_functions is deprecated. Please use tf.compat.v1.executing_eagerly_outside_functions instead.\n",
      "\n",
      "615/615 [==============================] - 16156s 26s/step - loss: 0.1698 - accuracy: 0.9389\n",
      "Epoch 2/2\n",
      "615/615 [==============================] - 15143s 25s/step - loss: 0.0660 - accuracy: 0.9791\n"
     ]
    }
   ],
   "source": [
    "history = LSTM_model.fit(X_train_lstm, y_train_lstm, epochs=2, batch_size=64)"
   ]
  },
  {
   "cell_type": "markdown",
   "id": "68e12b99",
   "metadata": {},
   "source": [
    "### Plotting loss and accuracy graphs of the LSTM Model"
   ]
  },
  {
   "cell_type": "code",
   "execution_count": 69,
   "id": "b636d181",
   "metadata": {},
   "outputs": [
    {
     "data": {
      "image/png": "[encoded data removed]",
      "text/plain": [
       "<Figure size 640x480 with 2 Axes>"
      ]
     },
     "metadata": {},
     "output_type": "display_data"
    }
   ],
   "source": [
    "# getting the loss values from the history variable\n",
    "loss_history = history.history['loss']\n",
    "# getting the accuracy values from the history variable\n",
    "accuracy_history = history.history['accuracy']\n",
    "\n",
    "# storing the number of epochs\n",
    "epochs = range(1, len(loss_history) + 1)\n",
    "\n",
    "# creating a figure with two subplots\n",
    "fig, ax1 = plt.subplots(1,2)\n",
    "\n",
    "# plotting the loss graph\n",
    "ax1[0].plot(epochs, loss_history, 'b', label='Training loss')\n",
    "# plotting the accuracy graph\n",
    "ax1[1].plot(epochs, accuracy_history, 'r', label='Accuracy')\n",
    "\n",
    "# setting the loss graph title and axis labels\n",
    "ax1[0].set_title('Training Loss')\n",
    "ax1[0].set_xlabel('Epochs')\n",
    "ax1[0].set_ylabel('Loss')\n",
    "\n",
    "# setting the accuracy graph title and axis labels\n",
    "ax1[1].set_title('Accuracy Graph')\n",
    "ax1[1].set_xlabel('Epochs')\n",
    "ax1[1].set_ylabel('Accuracy')\n",
    "\n",
    "# displaying the legend\n",
    "ax1[0].legend()\n",
    "ax1[1].legend()\n",
    "\n",
    "# displaying the graphs\n",
    "plt.tight_layout()\n",
    "plt.show()"
   ]
  },
  {
   "cell_type": "markdown",
   "id": "8d3c0b26",
   "metadata": {},
   "source": [
    "### Making predictions using the LSTM Model with the test data"
   ]
  },
  {
   "cell_type": "code",
   "execution_count": 70,
   "id": "4ed63f8c",
   "metadata": {},
   "outputs": [
    {
     "name": "stdout",
     "output_type": "stream",
     "text": [
      "308/308 [==============================] - 703s 2s/step\n"
     ]
    }
   ],
   "source": [
    "# Making predictions of X_test_lstm using the LSTM model\n",
    "lstm_pred = LSTM_model.predict(X_test_lstm)"
   ]
  },
  {
   "cell_type": "code",
   "execution_count": 71,
   "id": "f4a39a7e",
   "metadata": {},
   "outputs": [],
   "source": [
    "# converting the predicted values to 0 or 1 integer, to be classified as Real or Fake News\n",
    "lstm_transformed_pred = (lstm_pred > 0.499).astype(int)"
   ]
  },
  {
   "cell_type": "markdown",
   "id": "bf797c0c",
   "metadata": {},
   "source": [
    "### Storing the LSTM  and the Tokenizer"
   ]
  },
  {
   "cell_type": "code",
   "execution_count": 72,
   "id": "aef93722",
   "metadata": {},
   "outputs": [],
   "source": [
    "# storing the tokenizer in the tokenizer.pkl file\n",
    "pickle.dump(tokenizer, open('tokenizer.pkl', 'wb'))"
   ]
  },
  {
   "cell_type": "code",
   "execution_count": 148,
   "id": "3cfd6aac",
   "metadata": {},
   "outputs": [],
   "source": [
    "# storing the LSTM model in the trained_lstm_model.pkl file\n",
    "pickle.dump(LSTM_model, open('trained_lstm_model.pkl', 'wb'))"
   ]
  },
  {
   "cell_type": "code",
   "execution_count": 55,
   "id": "efd38134",
   "metadata": {},
   "outputs": [],
   "source": [
    "# reading back the tokenizer in the tokenizer.pkl file\n",
    "load_tokenizer=pickle.load(open('tokenizer.pkl', 'rb'))"
   ]
  },
  {
   "cell_type": "code",
   "execution_count": 56,
   "id": "14794656",
   "metadata": {},
   "outputs": [
    {
     "name": "stdout",
     "output_type": "stream",
     "text": [
      "WARNING:tensorflow:From C:\\Users\\65918\\anaconda3\\lib\\site-packages\\keras\\src\\backend.py:1398: The name tf.executing_eagerly_outside_functions is deprecated. Please use tf.compat.v1.executing_eagerly_outside_functions instead.\n",
      "\n",
      "WARNING:tensorflow:From C:\\Users\\65918\\anaconda3\\lib\\site-packages\\keras\\src\\optimizers\\__init__.py:309: The name tf.train.Optimizer is deprecated. Please use tf.compat.v1.train.Optimizer instead.\n",
      "\n"
     ]
    }
   ],
   "source": [
    "# reading back the LSTM model in the trained_lstm_model.pkl file\n",
    "load_lstm_model=pickle.load(open('trained_lstm_model.pkl', 'rb'))"
   ]
  },
  {
   "cell_type": "markdown",
   "id": "6aec5e53",
   "metadata": {},
   "source": [
    "## Results"
   ]
  },
  {
   "cell_type": "markdown",
   "id": "5a487c52",
   "metadata": {},
   "source": [
    "### Calculating the accuracy scores for the 2 feature extractor's data (for Naive Bayes)"
   ]
  },
  {
   "cell_type": "code",
   "execution_count": 109,
   "id": "e47b28f9",
   "metadata": {},
   "outputs": [],
   "source": [
    "# storing the Naive Bayes Model score using the Count vectorizer\n",
    "score1 = metrics.accuracy_score(y_test, improved_count_pred)\n",
    "# storing the Naive Bayes Model score using the TF-IDF vectorizer\n",
    "score2 = metrics.accuracy_score(y_test, improved_tfidf_pred)"
   ]
  },
  {
   "cell_type": "code",
   "execution_count": 110,
   "id": "41283e26",
   "metadata": {},
   "outputs": [
    {
     "name": "stdout",
     "output_type": "stream",
     "text": [
      "Accuracy Scores of Naive Bayes model:\n",
      "Using Count Vectorizer: 92.70896888346553 %\n",
      "Using TF-IDF Vectorizer: 91.04128533658735 %\n"
     ]
    }
   ],
   "source": [
    "# printing the Naive Bayes Model scores using the 2 vectorizers\n",
    "print(\"Accuracy Scores of Naive Bayes model:\")\n",
    "print(\"Using Count Vectorizer:\", score1*100, \"%\")\n",
    "print(\"Using TF-IDF Vectorizer:\", score2*100, \"%\")"
   ]
  },
  {
   "cell_type": "markdown",
   "id": "0651fb76",
   "metadata": {},
   "source": [
    "### Calculating the accuracy scores for the LSTM model"
   ]
  },
  {
   "cell_type": "code",
   "execution_count": 78,
   "id": "3bfa92da",
   "metadata": {},
   "outputs": [
    {
     "name": "stdout",
     "output_type": "stream",
     "text": [
      "Accuracy Score of LSTM model: 97.52898108602807 %\n"
     ]
    }
   ],
   "source": [
    "# printing the LSTM model accuracy score\n",
    "lstm_accuracy_score = metrics.accuracy_score(y_test_lstm, lstm_transformed_pred)\n",
    "print(\"Accuracy Score of LSTM model:\", lstm_accuracy_score*100, \"%\")"
   ]
  },
  {
   "cell_type": "code",
   "execution_count": 79,
   "id": "64e993a2",
   "metadata": {},
   "outputs": [],
   "source": [
    "# storing the various models in an array\n",
    "models = [\"Naive Bayes\", \"LSTM\"]\n",
    "# storing the different colours in an array\n",
    "colours = ['lightblue', 'lightgreen']"
   ]
  },
  {
   "cell_type": "markdown",
   "id": "76588854",
   "metadata": {},
   "source": [
    "### Calculating the recall scores for the 2 models"
   ]
  },
  {
   "cell_type": "code",
   "execution_count": 80,
   "id": "73fe8fcc",
   "metadata": {},
   "outputs": [
    {
     "name": "stdout",
     "output_type": "stream",
     "text": [
      "Recall Score of Naive Bayes model:\n",
      "Using Count Vectorizer: 93.93877551020408 %\n"
     ]
    }
   ],
   "source": [
    "# printing the Naive Bayes model recall score\n",
    "print(\"Recall Score of Naive Bayes model:\")\n",
    "recall_nb_score = metrics.recall_score(y_test, improved_count_pred)\n",
    "print(\"Using Count Vectorizer:\", recall_nb_score*100, \"%\")"
   ]
  },
  {
   "cell_type": "code",
   "execution_count": 81,
   "id": "12033d2b",
   "metadata": {},
   "outputs": [
    {
     "name": "stdout",
     "output_type": "stream",
     "text": [
      "Recall Score of LSTM model: 96.61224489795919 %\n"
     ]
    }
   ],
   "source": [
    "# printing the LSTM model recall score\n",
    "recall_lstm_score = metrics.recall_score(y_test, lstm_transformed_pred)\n",
    "print(\"Recall Score of LSTM model:\", recall_lstm_score*100, \"%\")"
   ]
  },
  {
   "cell_type": "markdown",
   "id": "dbb7f993",
   "metadata": {},
   "source": [
    "### Calculating the precision scores for the 2 models"
   ]
  },
  {
   "cell_type": "code",
   "execution_count": 82,
   "id": "e31181f3",
   "metadata": {},
   "outputs": [
    {
     "name": "stdout",
     "output_type": "stream",
     "text": [
      "Precision Score of Naive Bayes model:\n",
      "Using Count Vectorizer: 91.63846306987857 %\n"
     ]
    }
   ],
   "source": [
    "# printing the Naive Bayes model precision score\n",
    "print(\"Precision Score of Naive Bayes model:\")\n",
    "precision_nb_score = metrics.precision_score(y_test, improved_count_pred)\n",
    "print(\"Using Count Vectorizer:\", precision_nb_score*100, \"%\")"
   ]
  },
  {
   "cell_type": "code",
   "execution_count": 83,
   "id": "6749ed1a",
   "metadata": {},
   "outputs": [
    {
     "name": "stdout",
     "output_type": "stream",
     "text": [
      "Precision Score of LSTM model: 98.39950114321347 %\n"
     ]
    }
   ],
   "source": [
    "# printing the LSTM model precision score\n",
    "precision_lstm_score = metrics.precision_score(y_test, lstm_transformed_pred)\n",
    "print(\"Precision Score of LSTM model:\", precision_lstm_score*100, \"%\")"
   ]
  },
  {
   "cell_type": "markdown",
   "id": "5666fb47",
   "metadata": {},
   "source": [
    "### Calculating the f1 scores for the 2 models"
   ]
  },
  {
   "cell_type": "code",
   "execution_count": 84,
   "id": "74ecf388",
   "metadata": {},
   "outputs": [
    {
     "name": "stdout",
     "output_type": "stream",
     "text": [
      "F-1 Score of Naive Bayes model:\n",
      "Using Count Vectorizer: 92.77436259195808 %\n"
     ]
    }
   ],
   "source": [
    "# printing the Naive Bayes model f1 score\n",
    "print(\"F-1 Score of Naive Bayes model:\")\n",
    "f1_nb_score = metrics.f1_score(y_test, improved_count_pred)\n",
    "print(\"Using Count Vectorizer:\", f1_nb_score*100, \"%\")"
   ]
  },
  {
   "cell_type": "code",
   "execution_count": 85,
   "id": "f05161b4",
   "metadata": {},
   "outputs": [
    {
     "name": "stdout",
     "output_type": "stream",
     "text": [
      "F-1 Score of LSTM model: 97.49768303985171 %\n"
     ]
    }
   ],
   "source": [
    "# printing the LSTM model f1 score\n",
    "f1_lstm_score = metrics.f1_score(y_test, lstm_transformed_pred)\n",
    "print(\"F-1 Score of LSTM model:\", f1_lstm_score*100, \"%\")"
   ]
  },
  {
   "cell_type": "markdown",
   "id": "820d5de7",
   "metadata": {},
   "source": [
    "### Preparing the confusion matrix for the 2 models"
   ]
  },
  {
   "cell_type": "code",
   "execution_count": 86,
   "id": "aebfb37b",
   "metadata": {},
   "outputs": [
    {
     "data": {
      "image/png": "[encoded data removed]",
      "text/plain": [
       "<Figure size 640x480 with 1 Axes>"
      ]
     },
     "metadata": {},
     "output_type": "display_data"
    }
   ],
   "source": [
    "nb_cm = metrics.confusion_matrix(y_test, improved_count_pred)\n",
    "sns.heatmap(nb_cm, annot=True, fmt='d', cmap='Oranges', cbar=False,\n",
    "            xticklabels=['Predicted Negative', 'Predicted Positive'],\n",
    "            yticklabels=['Actual Negative', 'Actual Positive'])\n",
    "plt.xlabel('Predicted Label')\n",
    "plt.ylabel('True Label')\n",
    "plt.title('Confusion Matrix of Naive Bayes model (Using Count-Vectorizer):')\n",
    "\n",
    "# displaying the Naive Bayes model confusion matrix\n",
    "plt.show()"
   ]
  },
  {
   "cell_type": "code",
   "execution_count": 87,
   "id": "6a47dd0f",
   "metadata": {},
   "outputs": [
    {
     "data": {
      "image/png": "[encoded data removed]",
      "text/plain": [
       "<Figure size 640x480 with 1 Axes>"
      ]
     },
     "metadata": {},
     "output_type": "display_data"
    }
   ],
   "source": [
    "lstm_cm = metrics.confusion_matrix(y_test, lstm_transformed_pred)\n",
    "sns.heatmap(lstm_cm, annot=True, fmt='d', cmap='Oranges', cbar=False,\n",
    "            xticklabels=['Predicted Negative', 'Predicted Positive'],\n",
    "            yticklabels=['Actual Negative', 'Actual Positive'])\n",
    "plt.xlabel('Predicted Label')\n",
    "plt.ylabel('True Label')\n",
    "plt.title('Confusion Matrix of LSTM model:')\n",
    "\n",
    "# displaying the LSTM model confusion matrix\n",
    "plt.show()"
   ]
  },
  {
   "cell_type": "markdown",
   "id": "465eb062",
   "metadata": {},
   "source": [
    "## Evaluation of Results"
   ]
  },
  {
   "cell_type": "markdown",
   "id": "f070ce48",
   "metadata": {},
   "source": [
    "### Accuracy Scores of 2 models"
   ]
  },
  {
   "cell_type": "code",
   "execution_count": 111,
   "id": "5ff57d48",
   "metadata": {
    "scrolled": false
   },
   "outputs": [
    {
     "data": {
      "image/png": "[encoded data removed]",
      "text/plain": [
       "<Figure size 640x480 with 1 Axes>"
      ]
     },
     "metadata": {},
     "output_type": "display_data"
    }
   ],
   "source": [
    "# storing the various accuracy scores of the models in an array\n",
    "accuracy_scores = [score1*100, lstm_accuracy_score*100]\n",
    "rounded_accuracy_scores = [round(score1*100, 2), round(lstm_accuracy_score*100, 2)]\n",
    "\n",
    "# plotting the retrieved accuracy scores as a bar chart\n",
    "plt.bar(models, rounded_accuracy_scores, color=colours)\n",
    "plt.title(\"Accuracy Scores of different models \")\n",
    "\n",
    "# displaying the recall scores on top of the respective bar graphs\n",
    "for i, count in enumerate(rounded_accuracy_scores):\n",
    "    plt.text(i, count + 0.1, str(count), ha='center', va='bottom')\n",
    "    \n",
    "# setting the axis labels\n",
    "plt.xlabel(\"Models\")\n",
    "plt.ylabel(\"Accuracy Scores\")\n",
    "\n",
    "# displaying the graph\n",
    "plt.tight_layout()\n",
    "plt.show()"
   ]
  },
  {
   "cell_type": "markdown",
   "id": "2046a497",
   "metadata": {},
   "source": [
    "### Recall Scores of 2 models"
   ]
  },
  {
   "cell_type": "code",
   "execution_count": 89,
   "id": "e5264a53",
   "metadata": {},
   "outputs": [
    {
     "data": {
      "image/png": "[encoded data removed]",
      "text/plain": [
       "<Figure size 640x480 with 1 Axes>"
      ]
     },
     "metadata": {},
     "output_type": "display_data"
    }
   ],
   "source": [
    "# storing the various recall scores of the models in an array\n",
    "recall_scores = [recall_nb_score*100, recall_lstm_score*100]\n",
    "rounded_recall_scores = [round(recall_nb_score*100, 2), round(recall_lstm_score*100, 2)]\n",
    "\n",
    "# plotting the retrieved recall scores as a bar chart\n",
    "plt.bar(models, rounded_recall_scores, color=colours)\n",
    "plt.title(\"Recall Scores of different models \")\n",
    "\n",
    "# displaying the recall scores on top of the respective bar graphs\n",
    "for i, count in enumerate(rounded_recall_scores):\n",
    "    plt.text(i, count + 0.1, str(count), ha='center', va='bottom')\n",
    "    \n",
    "# setting the axis labels\n",
    "plt.xlabel(\"Models\")\n",
    "plt.ylabel(\"Recall Scores\")\n",
    "\n",
    "# displaying the graph\n",
    "plt.tight_layout()\n",
    "plt.show()"
   ]
  },
  {
   "cell_type": "markdown",
   "id": "ef5c3132",
   "metadata": {},
   "source": [
    "### Precision Scores of 2 models"
   ]
  },
  {
   "cell_type": "code",
   "execution_count": 90,
   "id": "0abd947d",
   "metadata": {},
   "outputs": [
    {
     "data": {
      "image/png": "[encoded data removed]",
      "text/plain": [
       "<Figure size 640x480 with 1 Axes>"
      ]
     },
     "metadata": {},
     "output_type": "display_data"
    }
   ],
   "source": [
    "# storing the various precision scores of the models in an array\n",
    "precision_scores = [precision_nb_score*100, precision_lstm_score*100]\n",
    "rounded_precision_scores = [round(precision_nb_score*100, 2), round(precision_lstm_score*100, 2)]\n",
    "\n",
    "# plotting the retrieved precision scores as a bar chart\n",
    "plt.bar(models, rounded_precision_scores, color=colours)\n",
    "plt.title(\"Precision Scores of different models \")\n",
    "\n",
    "# displaying the recall scores on top of the respective bar graphs\n",
    "for i, count in enumerate(rounded_precision_scores):\n",
    "    plt.text(i, count + 0.1, str(count), ha='center', va='bottom')\n",
    "    \n",
    "# setting the axis labels\n",
    "plt.xlabel(\"Models\")\n",
    "plt.ylabel(\"Precision Scores\")\n",
    "\n",
    "# displaying the graph\n",
    "plt.tight_layout()\n",
    "plt.show()"
   ]
  },
  {
   "cell_type": "markdown",
   "id": "4e1d049d",
   "metadata": {},
   "source": [
    "### F1 Scores of 2 models"
   ]
  },
  {
   "cell_type": "code",
   "execution_count": 91,
   "id": "b8910dfb",
   "metadata": {},
   "outputs": [
    {
     "data": {
      "image/png": "[encoded data removed]",
      "text/plain": [
       "<Figure size 640x480 with 1 Axes>"
      ]
     },
     "metadata": {},
     "output_type": "display_data"
    }
   ],
   "source": [
    "# storing the various f1 scores of the models in an array\n",
    "f1_scores = [f1_nb_score*100, f1_lstm_score*100]\n",
    "rounded_f1_scores = [round(f1_nb_score*100, 2), round(f1_lstm_score*100, 2)]\n",
    "\n",
    "# plotting the retrieved f1 scores as a bar chart\n",
    "plt.bar(models, rounded_f1_scores, color=colours)\n",
    "plt.title(\"F1 Scores of different models \")\n",
    "\n",
    "# displaying the recall scores on top of the respective bar graphs\n",
    "for i, count in enumerate(rounded_f1_scores):\n",
    "    plt.text(i, count + 0.1, str(count), ha='center', va='bottom')\n",
    "    \n",
    "# setting the axis labels\n",
    "plt.xlabel(\"Models\")\n",
    "plt.ylabel(\"F1 Scores\")\n",
    "\n",
    "# displaying the graph\n",
    "plt.tight_layout()\n",
    "plt.show()"
   ]
  },
  {
   "cell_type": "markdown",
   "id": "26205763",
   "metadata": {},
   "source": [
    "## Implementation of Models"
   ]
  },
  {
   "cell_type": "markdown",
   "id": "27581046",
   "metadata": {},
   "source": [
    "### Using Model for Fake News Detection"
   ]
  },
  {
   "cell_type": "code",
   "execution_count": 57,
   "id": "9b58ca65",
   "metadata": {},
   "outputs": [],
   "source": [
    "# function to make predictions of the news using the output values\n",
    "def output_prediction_label(n):\n",
    "    if n == 0:\n",
    "        return \"Fake News\"\n",
    "    if n == 1:\n",
    "        return \"Real News(Not A Fake News)\""
   ]
  },
  {
   "cell_type": "code",
   "execution_count": 58,
   "id": "9e9a240b",
   "metadata": {},
   "outputs": [],
   "source": [
    "# function to calculate the confidence score of the model when making predictions of a particular news article\n",
    "def calculate_confidence_value(value):\n",
    "    # if the article has a score of 0-0.5, it is a Fake news. The score is mapped to a confidence score of 100%.\n",
    "    if 0 <= value < 0.5:\n",
    "        calculated_percentage = ((0.5 - value) / (0.5)) * 100\n",
    "    # if the article has a score of 0.5-1, it is a Real news. The score is mapped to a confidence score of 100%.\n",
    "    elif 0.5 <= value <= 1:\n",
    "        calculated_percentage = ((value - 0.5)/ 0.5) * 100\n",
    "    # if no score is returned, no score is printed. (To handle exceptions)\n",
    "    else:\n",
    "        calculated_percentage = None\n",
    "    return calculated_percentage"
   ]
  },
  {
   "cell_type": "code",
   "execution_count": 59,
   "id": "f7293c26",
   "metadata": {},
   "outputs": [],
   "source": [
    "# function to make predictions of a news article using a news text, initialized vectorizer and tokenizer.\n",
    "def news_test(news, vectorizer, tokenizer):\n",
    "    # storing the news article in the test_news[\"text\"] as an array\n",
    "    test_news = {\"text\": [news]}\n",
    "    # storing the test_news in the new_def_test inside a dataframe\n",
    "    new_def_test = pd.DataFrame(test_news)\n",
    "    # cleaning the new_def_test[\"text\"] data\n",
    "    new_def_test[\"text\"] = new_def_test[\"text\"].apply(clean_data)\n",
    "    # storing the new_def_test[\"text\"] data as a new variable\n",
    "    new_x_test = new_def_test[\"text\"]\n",
    "    # using a vectorizer to transform the new_def_test[\"text\"] data\n",
    "    new_xv_test = vectorizer.transform(new_x_test)\n",
    "    # making a prediction of the news article using the Naive Bayes model\n",
    "    pred_NB = load_nb_model.predict(new_xv_test)\n",
    "    \n",
    "    # converting the news into a string and using the tokenizer to convert the news text to a sequence and storing it\n",
    "    lstm_new_xv_test = tokenizer.texts_to_sequences([str(news)])\n",
    "    input_sequence_length = X_train_lstm.shape[1]\n",
    "    # padding the tokenized news sequences to be of max length that suits the LSTM model input length and storing it\n",
    "    lstm_new_xv_test = pad_sequences(lstm_new_xv_test, maxlen=input_sequence_length)\n",
    "    \n",
    "    # making a prediction of the news article using the LSTM model\n",
    "    pred_LSTM = load_lstm_model.predict(lstm_new_xv_test)\n",
    "    # converting the predicted values to an integer(0 or 1), to be classified as Real or Fake News\n",
    "    pred_transformed_LSTM = (pred_LSTM > 0.499).astype(int)\n",
    "    \n",
    "    # printing the predictions of the models\n",
    "    print(pred_LSTM[0][0])\n",
    "    print(pred_NB[0])\n",
    "    \n",
    "    # returning 4 items(2 predictions and 2 confidence scores of the 2 models)\n",
    "    # (set 1) the predicted LSTM value(0 or 1) to classify as Real/Fake News and confidence score of the LSTM model\n",
    "    # (set 2) the predicted Naive Bayes value(0 or 1) to classify as Real/Fake News and confidence score of the Naive Bayes model\n",
    "    return output_prediction_label(pred_transformed_LSTM[0]), calculate_confidence_value(pred_transformed_LSTM[0][0]), output_prediction_label(pred_NB[0]), calculate_confidence_value(pred_NB[0])"
   ]
  },
  {
   "cell_type": "code",
   "execution_count": 68,
   "id": "31ec541b",
   "metadata": {
    "scrolled": false
   },
   "outputs": [
    {
     "name": "stdout",
     "output_type": "stream",
     "text": [
      "Enter a news string: No comment is expected from Barack Obama Members of the #FYF911 or #FukYoFlag and #BlackLivesMatter movements called for the lynching and hanging of white people and cops. They encouraged others on a radio show Tuesday night to  turn the tide  and kill white people and cops to send a message about the killing of black people in America.One of the F***YoFlag organizers is called  Sunshine.  She has a radio blog show hosted from Texas called,  Sunshine s F***ing Opinion Radio Show. A snapshot of her #FYF911 @LOLatWhiteFear Twitter page at 9:53 p.m. shows that she was urging supporters to  Call now!! #fyf911 tonight we continue to dismantle the illusion of white Below is a SNAPSHOT Twitter Radio Call Invite   #FYF911The radio show aired at 10:00 p.m. eastern standard time.During the show, callers clearly call for  lynching  and  killing  of white people.A 2:39 minute clip from the radio show can be heard here. It was provided to Breitbart Texas by someone who would like to be referred to as  Hannibal.  He has already received death threats as a result of interrupting #FYF911 conference calls.An unidentified black man said  when those mother f**kers are by themselves, that s when when we should start f***ing them up. Like they do us, when a bunch of them ni**ers takin  one of us out, that s how we should roll up.  He said,  Cause we already roll up in gangs anyway. There should be six or seven black mother f**ckers, see that white person, and then lynch their ass. Let s turn the tables. They conspired that if  cops started losing people,  then  there will be a state of emergency. He speculated that one of two things would happen,  a big-ass [R s?????] war,  or  ni**ers, they are going to start backin  up. We are already getting killed out here so what the f**k we got to lose? Sunshine could be heard saying,  Yep, that s true. That s so f**king true. He said,  We need to turn the tables on them. Our kids are getting shot out here. Somebody needs to become a sacrifice on their side.He said,  Everybody ain t down for that s**t, or whatever, but like I say, everybody has a different position of war.  He continued,  Because they don t give a f**k anyway.  He said again,  We might as well utilized them for that s**t and turn the tables on these n**ers. He said, that way  we can start lookin  like we ain t havin  that many casualties, and there can be more causalities on their side instead of ours. They are out their killing black people, black lives don t matter, that s what those mother f**kers   so we got to make it matter to them. Find a mother f**ker that is alone. Snap his ass, and then f***in hang him from a damn tree. Take a picture of it and then send it to the mother f**kers. We  just need one example,  and  then people will start watchin .  This will turn the tables on s**t, he said. He said this will start  a trickle-down effect.  He said that when one white person is hung and then they are just  flat-hanging,  that will start the  trickle-down effect.  He continued,  Black people are good at starting trends. He said that was how  to get the upper-hand. Another black man spoke up saying they needed to kill  cops that are killing us. The first black male said,  That will be the best method right there. Breitbart Texas previously reported how Sunshine was upset when  racist white people  infiltrated and disrupted one of her conference calls. She subsequently released the phone number of one of the infiltrators. The veteran immediately started receiving threatening calls.One of the #F***YoFlag movement supporters allegedly told a veteran who infiltrated their publicly posted conference call,  We are going to rape and gut your pregnant wife, and your f***ing piece of sh*t unborn creature will be hung from a tree. Breitbart Texas previously encountered Sunshine at a Sandra Bland protest at the Waller County Jail in Texas, where she said all white people should be killed. She told journalists and photographers,  You see this nappy-ass hair on my head?   That means I am one of those more militant Negroes.  She said she was at the protest because  these redneck mother-f**kers murdered Sandra Bland because she had nappy hair like me. #FYF911 black radicals say they will be holding the  imperial powers  that are actually responsible for the terrorist attacks on September 11th accountable on that day, as reported by Breitbart Texas. There are several websites and Twitter handles for the movement. Palmetto Star  describes himself as one of the head organizers. He said in a YouTube video that supporters will be burning their symbols of  the illusion of their superiority,  their  false white supremacy,  like the American flag, the British flag, police uniforms, and Ku Klux Klan hoods.Sierra McGrone or  Nocturnus Libertus  posted,  you too can help a young Afrikan clean their a** with the rag of oppression.  She posted two photos, one that appears to be herself, and a photo of a black man, wiping their naked butts with the American flag.For entire story: Breitbart News\n",
      "1/1 [==============================] - 2s 2s/step\n",
      "0.99978095\n",
      "1\n"
     ]
    }
   ],
   "source": [
    "# taking in the news input\n",
    "news_input = input(\"Enter a news string: \")\n",
    "# storing the 4 outputs from the news test function using the news input, vectorizer and tokenizer\n",
    "lstm_prediction, lstm_confidence_score, nb_prediction, nb_confidence_score = news_test(news_input, load_vectorizer, load_tokenizer)"
   ]
  },
  {
   "cell_type": "code",
   "execution_count": 69,
   "id": "422a704e",
   "metadata": {},
   "outputs": [
    {
     "name": "stdout",
     "output_type": "stream",
     "text": [
      "LSTM Prediction: Real News(Not A Fake News)\n",
      "LSTM Confidence Score: 100.0 %\n",
      "NB Prediction: Real News(Not A Fake News)\n",
      "NB Confidence Score: 100.0 %\n"
     ]
    }
   ],
   "source": [
    "# printing the 4 outputs from the news test function\n",
    "# printing the LSTM prediction output (whether the article is Fake News or Real News)\n",
    "print(\"LSTM Prediction:\", lstm_prediction)\n",
    "# printing the LSTM model confidence score of the prediction\n",
    "print(\"LSTM Confidence Score:\", lstm_confidence_score, \"%\")\n",
    "# printing the Naive Bayes prediction output (whether the article is Fake News or Real News)\n",
    "print(\"NB Prediction:\", nb_prediction)\n",
    "# printing the Naive Bayes model confidence score of the prediction\n",
    "print(\"NB Confidence Score:\", nb_confidence_score, \"%\")"
   ]
  },
  {
   "cell_type": "code",
   "execution_count": 147,
   "id": "cc8fd297",
   "metadata": {},
   "outputs": [
    {
     "name": "stdout",
     "output_type": "stream",
     "text": [
      "Accuracy Scores of the 2 models:\n",
      "LSTM Model Generic Accuracy Score: 97.53 %\n",
      "Naive Bayes Model Generic Accuracy Score: 92.71 %\n"
     ]
    }
   ],
   "source": [
    "# printing the Generic Accuracy scores of the 2 models\n",
    "print(\"Accuracy Scores of the 2 models:\")\n",
    "# printing the Generic Accuracy scores of the LSTM model\n",
    "print(\"LSTM Model Generic Accuracy Score:\", round(lstm_accuracy_score*100, 2), \"%\")\n",
    "# printing the Generic Accuracy scores of the Naive Bayes model\n",
    "print(\"Naive Bayes Model Generic Accuracy Score:\", round(improved_count_score*100, 2), \"%\")"
   ]
  },
  {
   "cell_type": "code",
   "execution_count": 98,
   "id": "b013612d",
   "metadata": {},
   "outputs": [],
   "source": [
    "#### Demo Fake News Article\n",
    "#### HARARE (Reuters) - Zimbabwe President Robert Mugabe arrived at a university graduation ceremony in the capital on Friday, his first public appearance since a military seizure of power that political sources say is aimed at ending his 37 years in office. Wearing a blue and yellow academic gown and mortar board hat, the 93-year-old sat in large wooden chair at the front the hall. He was greeted by ululations from the crowd as he declared the ceremony open."
   ]
  },
  {
   "cell_type": "code",
   "execution_count": 99,
   "id": "b35c4e03",
   "metadata": {},
   "outputs": [],
   "source": [
    "#### Demo Real News Article\n",
    "#### No comment is expected from Barack Obama Members of the #FYF911 or #FukYoFlag and #BlackLivesMatter movements called for the lynching and hanging of white people and cops. They encouraged others on a radio show Tuesday night to  turn the tide  and kill white people and cops to send a message about the killing of black people in America.One of the F***YoFlag organizers is called  Sunshine.  She has a radio blog show hosted from Texas called,  Sunshine s F***ing Opinion Radio Show. A snapshot of her #FYF911 @LOLatWhiteFear Twitter page at 9:53 p.m. shows that she was urging supporters to  Call now!! #fyf911 tonight we continue to dismantle the illusion of white Below is a SNAPSHOT Twitter Radio Call Invite   #FYF911The radio show aired at 10:00 p.m. eastern standard time.During the show, callers clearly call for  lynching  and  killing  of white people.A 2:39 minute clip from the radio show can be heard here. It was provided to Breitbart Texas by someone who would like to be referred to as  Hannibal.  He has already received death threats as a result of interrupting #FYF911 conference calls.An unidentified black man said  when those mother f**kers are by themselves, that s when when we should start f***ing them up. Like they do us, when a bunch of them ni**ers takin  one of us out, that s how we should roll up.  He said,  Cause we already roll up in gangs anyway. There should be six or seven black mother f**ckers, see that white person, and then lynch their ass. Let s turn the tables. They conspired that if  cops started losing people,  then  there will be a state of emergency. He speculated that one of two things would happen,  a big-ass [R s?????] war,  or  ni**ers, they are going to start backin  up. We are already getting killed out here so what the f**k we got to lose? Sunshine could be heard saying,  Yep, that s true. That s so f**king true. He said,  We need to turn the tables on them. Our kids are getting shot out here. Somebody needs to become a sacrifice on their side.He said,  Everybody ain t down for that s**t, or whatever, but like I say, everybody has a different position of war.  He continued,  Because they don t give a f**k anyway.  He said again,  We might as well utilized them for that s**t and turn the tables on these n**ers. He said, that way  we can start lookin  like we ain t havin  that many casualties, and there can be more causalities on their side instead of ours. They are out their killing black people, black lives don t matter, that s what those mother f**kers   so we got to make it matter to them. Find a mother f**ker that is alone. Snap his ass, and then f***in hang him from a damn tree. Take a picture of it and then send it to the mother f**kers. We  just need one example,  and  then people will start watchin .  This will turn the tables on s**t, he said. He said this will start  a trickle-down effect.  He said that when one white person is hung and then they are just  flat-hanging,  that will start the  trickle-down effect.  He continued,  Black people are good at starting trends. He said that was how  to get the upper-hand. Another black man spoke up saying they needed to kill  cops that are killing us. The first black male said,  That will be the best method right there. Breitbart Texas previously reported how Sunshine was upset when  racist white people  infiltrated and disrupted one of her conference calls. She subsequently released the phone number of one of the infiltrators. The veteran immediately started receiving threatening calls.One of the #F***YoFlag movement supporters allegedly told a veteran who infiltrated their publicly posted conference call,  We are going to rape and gut your pregnant wife, and your f***ing piece of sh*t unborn creature will be hung from a tree. Breitbart Texas previously encountered Sunshine at a Sandra Bland protest at the Waller County Jail in Texas, where she said all white people should be killed. She told journalists and photographers,  You see this nappy-ass hair on my head?   That means I am one of those more militant Negroes.  She said she was at the protest because  these redneck mother-f**kers murdered Sandra Bland because she had nappy hair like me. #FYF911 black radicals say they will be holding the  imperial powers  that are actually responsible for the terrorist attacks on September 11th accountable on that day, as reported by Breitbart Texas. There are several websites and Twitter handles for the movement. Palmetto Star  describes himself as one of the head organizers. He said in a YouTube video that supporters will be burning their symbols of  the illusion of their superiority,  their  false white supremacy,  like the American flag, the British flag, police uniforms, and Ku Klux Klan hoods.Sierra McGrone or  Nocturnus Libertus  posted,  you too can help a young Afrikan clean their a** with the rag of oppression.  She posted two photos, one that appears to be herself, and a photo of a black man, wiping their naked butts with the American flag.For entire story: Breitbart News"
   ]
  }
 ],
 "metadata": {
  "kernelspec": {
   "display_name": "Python 3 (ipykernel)",
   "language": "python",
   "name": "python3"
  },
  "language_info": {
   "codemirror_mode": {
    "name": "ipython",
    "version": 3
   },
   "file_extension": ".py",
   "mimetype": "text/x-python",
   "name": "python",
   "nbconvert_exporter": "python",
   "pygments_lexer": "ipython3",
   "version": "3.9.13"
  }
 },
 "nbformat": 4,
 "nbformat_minor": 5
}
